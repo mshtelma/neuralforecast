{
  "nbformat": 4,
  "nbformat_minor": 0,
  "metadata": {
    "colab": {
      "name": "Transfer Learning for Time Series by Nixtla bueno",
      "provenance": [],
      "collapsed_sections": [],
      "include_colab_link": true
    },
    "kernelspec": {
      "name": "python3",
      "display_name": "Python 3"
    },
    "language_info": {
      "name": "python"
    },
    "accelerator": "GPU",
    "widgets": {
      "application/vnd.jupyter.widget-state+json": {
        "f6f0457c090d49e2ba6a244ed4c6aa9f": {
          "model_module": "@jupyter-widgets/controls",
          "model_name": "HBoxModel",
          "model_module_version": "1.5.0",
          "state": {
            "_dom_classes": [],
            "_model_module": "@jupyter-widgets/controls",
            "_model_module_version": "1.5.0",
            "_model_name": "HBoxModel",
            "_view_count": null,
            "_view_module": "@jupyter-widgets/controls",
            "_view_module_version": "1.5.0",
            "_view_name": "HBoxView",
            "box_style": "",
            "children": [
              "IPY_MODEL_316738032fe942cb8599c4eb6d9aec8c",
              "IPY_MODEL_dfd154593c494481906d3fb9a09ed797",
              "IPY_MODEL_59ab92a23f164fadaed0e70c5c98936a"
            ],
            "layout": "IPY_MODEL_f9aff2cdab16483986df5fe66ccaa546"
          }
        },
        "316738032fe942cb8599c4eb6d9aec8c": {
          "model_module": "@jupyter-widgets/controls",
          "model_name": "HTMLModel",
          "model_module_version": "1.5.0",
          "state": {
            "_dom_classes": [],
            "_model_module": "@jupyter-widgets/controls",
            "_model_module_version": "1.5.0",
            "_model_name": "HTMLModel",
            "_view_count": null,
            "_view_module": "@jupyter-widgets/controls",
            "_view_module_version": "1.5.0",
            "_view_name": "HTMLView",
            "description": "",
            "description_tooltip": null,
            "layout": "IPY_MODEL_c50ee22f4a074877823980f5dc22fedc",
            "placeholder": "​",
            "style": "IPY_MODEL_f47dc0020cee4541b439e3e8560f6746",
            "value": "Epoch 9: 100%"
          }
        },
        "dfd154593c494481906d3fb9a09ed797": {
          "model_module": "@jupyter-widgets/controls",
          "model_name": "FloatProgressModel",
          "model_module_version": "1.5.0",
          "state": {
            "_dom_classes": [],
            "_model_module": "@jupyter-widgets/controls",
            "_model_module_version": "1.5.0",
            "_model_name": "FloatProgressModel",
            "_view_count": null,
            "_view_module": "@jupyter-widgets/controls",
            "_view_module_version": "1.5.0",
            "_view_name": "ProgressView",
            "bar_style": "success",
            "description": "",
            "description_tooltip": null,
            "layout": "IPY_MODEL_66ae4828dc4a46859b99a151f1908a17",
            "max": 1,
            "min": 0,
            "orientation": "horizontal",
            "style": "IPY_MODEL_e822f37af7144fce9dcb880a162b0043",
            "value": 1
          }
        },
        "59ab92a23f164fadaed0e70c5c98936a": {
          "model_module": "@jupyter-widgets/controls",
          "model_name": "HTMLModel",
          "model_module_version": "1.5.0",
          "state": {
            "_dom_classes": [],
            "_model_module": "@jupyter-widgets/controls",
            "_model_module_version": "1.5.0",
            "_model_name": "HTMLModel",
            "_view_count": null,
            "_view_module": "@jupyter-widgets/controls",
            "_view_module_version": "1.5.0",
            "_view_name": "HTMLView",
            "description": "",
            "description_tooltip": null,
            "layout": "IPY_MODEL_ec341347c6d043e0818b3528e9eb1036",
            "placeholder": "​",
            "style": "IPY_MODEL_037b95a9c8144ff0a654ef59babf05c3",
            "value": " 1/1 [00:00&lt;00:00, 16.14it/s, loss=0.0776, v_num=4, train_loss_step=0.0496, train_loss_epoch=0.0496]"
          }
        },
        "f9aff2cdab16483986df5fe66ccaa546": {
          "model_module": "@jupyter-widgets/base",
          "model_name": "LayoutModel",
          "model_module_version": "1.2.0",
          "state": {
            "_model_module": "@jupyter-widgets/base",
            "_model_module_version": "1.2.0",
            "_model_name": "LayoutModel",
            "_view_count": null,
            "_view_module": "@jupyter-widgets/base",
            "_view_module_version": "1.2.0",
            "_view_name": "LayoutView",
            "align_content": null,
            "align_items": null,
            "align_self": null,
            "border": null,
            "bottom": null,
            "display": "inline-flex",
            "flex": null,
            "flex_flow": "row wrap",
            "grid_area": null,
            "grid_auto_columns": null,
            "grid_auto_flow": null,
            "grid_auto_rows": null,
            "grid_column": null,
            "grid_gap": null,
            "grid_row": null,
            "grid_template_areas": null,
            "grid_template_columns": null,
            "grid_template_rows": null,
            "height": null,
            "justify_content": null,
            "justify_items": null,
            "left": null,
            "margin": null,
            "max_height": null,
            "max_width": null,
            "min_height": null,
            "min_width": null,
            "object_fit": null,
            "object_position": null,
            "order": null,
            "overflow": null,
            "overflow_x": null,
            "overflow_y": null,
            "padding": null,
            "right": null,
            "top": null,
            "visibility": null,
            "width": "100%"
          }
        },
        "c50ee22f4a074877823980f5dc22fedc": {
          "model_module": "@jupyter-widgets/base",
          "model_name": "LayoutModel",
          "model_module_version": "1.2.0",
          "state": {
            "_model_module": "@jupyter-widgets/base",
            "_model_module_version": "1.2.0",
            "_model_name": "LayoutModel",
            "_view_count": null,
            "_view_module": "@jupyter-widgets/base",
            "_view_module_version": "1.2.0",
            "_view_name": "LayoutView",
            "align_content": null,
            "align_items": null,
            "align_self": null,
            "border": null,
            "bottom": null,
            "display": null,
            "flex": null,
            "flex_flow": null,
            "grid_area": null,
            "grid_auto_columns": null,
            "grid_auto_flow": null,
            "grid_auto_rows": null,
            "grid_column": null,
            "grid_gap": null,
            "grid_row": null,
            "grid_template_areas": null,
            "grid_template_columns": null,
            "grid_template_rows": null,
            "height": null,
            "justify_content": null,
            "justify_items": null,
            "left": null,
            "margin": null,
            "max_height": null,
            "max_width": null,
            "min_height": null,
            "min_width": null,
            "object_fit": null,
            "object_position": null,
            "order": null,
            "overflow": null,
            "overflow_x": null,
            "overflow_y": null,
            "padding": null,
            "right": null,
            "top": null,
            "visibility": null,
            "width": null
          }
        },
        "f47dc0020cee4541b439e3e8560f6746": {
          "model_module": "@jupyter-widgets/controls",
          "model_name": "DescriptionStyleModel",
          "model_module_version": "1.5.0",
          "state": {
            "_model_module": "@jupyter-widgets/controls",
            "_model_module_version": "1.5.0",
            "_model_name": "DescriptionStyleModel",
            "_view_count": null,
            "_view_module": "@jupyter-widgets/base",
            "_view_module_version": "1.2.0",
            "_view_name": "StyleView",
            "description_width": ""
          }
        },
        "66ae4828dc4a46859b99a151f1908a17": {
          "model_module": "@jupyter-widgets/base",
          "model_name": "LayoutModel",
          "model_module_version": "1.2.0",
          "state": {
            "_model_module": "@jupyter-widgets/base",
            "_model_module_version": "1.2.0",
            "_model_name": "LayoutModel",
            "_view_count": null,
            "_view_module": "@jupyter-widgets/base",
            "_view_module_version": "1.2.0",
            "_view_name": "LayoutView",
            "align_content": null,
            "align_items": null,
            "align_self": null,
            "border": null,
            "bottom": null,
            "display": null,
            "flex": "2",
            "flex_flow": null,
            "grid_area": null,
            "grid_auto_columns": null,
            "grid_auto_flow": null,
            "grid_auto_rows": null,
            "grid_column": null,
            "grid_gap": null,
            "grid_row": null,
            "grid_template_areas": null,
            "grid_template_columns": null,
            "grid_template_rows": null,
            "height": null,
            "justify_content": null,
            "justify_items": null,
            "left": null,
            "margin": null,
            "max_height": null,
            "max_width": null,
            "min_height": null,
            "min_width": null,
            "object_fit": null,
            "object_position": null,
            "order": null,
            "overflow": null,
            "overflow_x": null,
            "overflow_y": null,
            "padding": null,
            "right": null,
            "top": null,
            "visibility": null,
            "width": null
          }
        },
        "e822f37af7144fce9dcb880a162b0043": {
          "model_module": "@jupyter-widgets/controls",
          "model_name": "ProgressStyleModel",
          "model_module_version": "1.5.0",
          "state": {
            "_model_module": "@jupyter-widgets/controls",
            "_model_module_version": "1.5.0",
            "_model_name": "ProgressStyleModel",
            "_view_count": null,
            "_view_module": "@jupyter-widgets/base",
            "_view_module_version": "1.2.0",
            "_view_name": "StyleView",
            "bar_color": null,
            "description_width": ""
          }
        },
        "ec341347c6d043e0818b3528e9eb1036": {
          "model_module": "@jupyter-widgets/base",
          "model_name": "LayoutModel",
          "model_module_version": "1.2.0",
          "state": {
            "_model_module": "@jupyter-widgets/base",
            "_model_module_version": "1.2.0",
            "_model_name": "LayoutModel",
            "_view_count": null,
            "_view_module": "@jupyter-widgets/base",
            "_view_module_version": "1.2.0",
            "_view_name": "LayoutView",
            "align_content": null,
            "align_items": null,
            "align_self": null,
            "border": null,
            "bottom": null,
            "display": null,
            "flex": null,
            "flex_flow": null,
            "grid_area": null,
            "grid_auto_columns": null,
            "grid_auto_flow": null,
            "grid_auto_rows": null,
            "grid_column": null,
            "grid_gap": null,
            "grid_row": null,
            "grid_template_areas": null,
            "grid_template_columns": null,
            "grid_template_rows": null,
            "height": null,
            "justify_content": null,
            "justify_items": null,
            "left": null,
            "margin": null,
            "max_height": null,
            "max_width": null,
            "min_height": null,
            "min_width": null,
            "object_fit": null,
            "object_position": null,
            "order": null,
            "overflow": null,
            "overflow_x": null,
            "overflow_y": null,
            "padding": null,
            "right": null,
            "top": null,
            "visibility": null,
            "width": null
          }
        },
        "037b95a9c8144ff0a654ef59babf05c3": {
          "model_module": "@jupyter-widgets/controls",
          "model_name": "DescriptionStyleModel",
          "model_module_version": "1.5.0",
          "state": {
            "_model_module": "@jupyter-widgets/controls",
            "_model_module_version": "1.5.0",
            "_model_name": "DescriptionStyleModel",
            "_view_count": null,
            "_view_module": "@jupyter-widgets/base",
            "_view_module_version": "1.2.0",
            "_view_name": "StyleView",
            "description_width": ""
          }
        },
        "4d4fbff1aa9e4669aa0f4a536590a83c": {
          "model_module": "@jupyter-widgets/controls",
          "model_name": "HBoxModel",
          "model_module_version": "1.5.0",
          "state": {
            "_dom_classes": [],
            "_model_module": "@jupyter-widgets/controls",
            "_model_module_version": "1.5.0",
            "_model_name": "HBoxModel",
            "_view_count": null,
            "_view_module": "@jupyter-widgets/controls",
            "_view_module_version": "1.5.0",
            "_view_name": "HBoxView",
            "box_style": "",
            "children": [
              "IPY_MODEL_b3ff250d4da4412787b3f63dc0c0c46d",
              "IPY_MODEL_633ff5c9e351466880ac5abd5eb74f9c",
              "IPY_MODEL_03d80dd3ec2a4fc3b8aebc06f82f66f1"
            ],
            "layout": "IPY_MODEL_0c6e885e7f5d4275821eddd8d03ec086"
          }
        },
        "b3ff250d4da4412787b3f63dc0c0c46d": {
          "model_module": "@jupyter-widgets/controls",
          "model_name": "HTMLModel",
          "model_module_version": "1.5.0",
          "state": {
            "_dom_classes": [],
            "_model_module": "@jupyter-widgets/controls",
            "_model_module_version": "1.5.0",
            "_model_name": "HTMLModel",
            "_view_count": null,
            "_view_module": "@jupyter-widgets/controls",
            "_view_module_version": "1.5.0",
            "_view_name": "HTMLView",
            "description": "",
            "description_tooltip": null,
            "layout": "IPY_MODEL_3195f2cf54f346baa2709c423d665ea5",
            "placeholder": "​",
            "style": "IPY_MODEL_01fd7e12b4b744dea531f54c42bd6186",
            "value": "Predicting DataLoader 0: 100%"
          }
        },
        "633ff5c9e351466880ac5abd5eb74f9c": {
          "model_module": "@jupyter-widgets/controls",
          "model_name": "FloatProgressModel",
          "model_module_version": "1.5.0",
          "state": {
            "_dom_classes": [],
            "_model_module": "@jupyter-widgets/controls",
            "_model_module_version": "1.5.0",
            "_model_name": "FloatProgressModel",
            "_view_count": null,
            "_view_module": "@jupyter-widgets/controls",
            "_view_module_version": "1.5.0",
            "_view_name": "ProgressView",
            "bar_style": "success",
            "description": "",
            "description_tooltip": null,
            "layout": "IPY_MODEL_397a5e58be144ae298679f6c1594ddc7",
            "max": 1,
            "min": 0,
            "orientation": "horizontal",
            "style": "IPY_MODEL_27aca93e9916409a9464d3e089e636b6",
            "value": 1
          }
        },
        "03d80dd3ec2a4fc3b8aebc06f82f66f1": {
          "model_module": "@jupyter-widgets/controls",
          "model_name": "HTMLModel",
          "model_module_version": "1.5.0",
          "state": {
            "_dom_classes": [],
            "_model_module": "@jupyter-widgets/controls",
            "_model_module_version": "1.5.0",
            "_model_name": "HTMLModel",
            "_view_count": null,
            "_view_module": "@jupyter-widgets/controls",
            "_view_module_version": "1.5.0",
            "_view_name": "HTMLView",
            "description": "",
            "description_tooltip": null,
            "layout": "IPY_MODEL_e45cc028e59f484bac2f3f3e29415fa5",
            "placeholder": "​",
            "style": "IPY_MODEL_ae75c5cded224a649d31cf84d1135076",
            "value": " 1/1 [00:00&lt;00:00, 31.06it/s]"
          }
        },
        "0c6e885e7f5d4275821eddd8d03ec086": {
          "model_module": "@jupyter-widgets/base",
          "model_name": "LayoutModel",
          "model_module_version": "1.2.0",
          "state": {
            "_model_module": "@jupyter-widgets/base",
            "_model_module_version": "1.2.0",
            "_model_name": "LayoutModel",
            "_view_count": null,
            "_view_module": "@jupyter-widgets/base",
            "_view_module_version": "1.2.0",
            "_view_name": "LayoutView",
            "align_content": null,
            "align_items": null,
            "align_self": null,
            "border": null,
            "bottom": null,
            "display": "inline-flex",
            "flex": null,
            "flex_flow": "row wrap",
            "grid_area": null,
            "grid_auto_columns": null,
            "grid_auto_flow": null,
            "grid_auto_rows": null,
            "grid_column": null,
            "grid_gap": null,
            "grid_row": null,
            "grid_template_areas": null,
            "grid_template_columns": null,
            "grid_template_rows": null,
            "height": null,
            "justify_content": null,
            "justify_items": null,
            "left": null,
            "margin": null,
            "max_height": null,
            "max_width": null,
            "min_height": null,
            "min_width": null,
            "object_fit": null,
            "object_position": null,
            "order": null,
            "overflow": null,
            "overflow_x": null,
            "overflow_y": null,
            "padding": null,
            "right": null,
            "top": null,
            "visibility": null,
            "width": "100%"
          }
        },
        "3195f2cf54f346baa2709c423d665ea5": {
          "model_module": "@jupyter-widgets/base",
          "model_name": "LayoutModel",
          "model_module_version": "1.2.0",
          "state": {
            "_model_module": "@jupyter-widgets/base",
            "_model_module_version": "1.2.0",
            "_model_name": "LayoutModel",
            "_view_count": null,
            "_view_module": "@jupyter-widgets/base",
            "_view_module_version": "1.2.0",
            "_view_name": "LayoutView",
            "align_content": null,
            "align_items": null,
            "align_self": null,
            "border": null,
            "bottom": null,
            "display": null,
            "flex": null,
            "flex_flow": null,
            "grid_area": null,
            "grid_auto_columns": null,
            "grid_auto_flow": null,
            "grid_auto_rows": null,
            "grid_column": null,
            "grid_gap": null,
            "grid_row": null,
            "grid_template_areas": null,
            "grid_template_columns": null,
            "grid_template_rows": null,
            "height": null,
            "justify_content": null,
            "justify_items": null,
            "left": null,
            "margin": null,
            "max_height": null,
            "max_width": null,
            "min_height": null,
            "min_width": null,
            "object_fit": null,
            "object_position": null,
            "order": null,
            "overflow": null,
            "overflow_x": null,
            "overflow_y": null,
            "padding": null,
            "right": null,
            "top": null,
            "visibility": null,
            "width": null
          }
        },
        "01fd7e12b4b744dea531f54c42bd6186": {
          "model_module": "@jupyter-widgets/controls",
          "model_name": "DescriptionStyleModel",
          "model_module_version": "1.5.0",
          "state": {
            "_model_module": "@jupyter-widgets/controls",
            "_model_module_version": "1.5.0",
            "_model_name": "DescriptionStyleModel",
            "_view_count": null,
            "_view_module": "@jupyter-widgets/base",
            "_view_module_version": "1.2.0",
            "_view_name": "StyleView",
            "description_width": ""
          }
        },
        "397a5e58be144ae298679f6c1594ddc7": {
          "model_module": "@jupyter-widgets/base",
          "model_name": "LayoutModel",
          "model_module_version": "1.2.0",
          "state": {
            "_model_module": "@jupyter-widgets/base",
            "_model_module_version": "1.2.0",
            "_model_name": "LayoutModel",
            "_view_count": null,
            "_view_module": "@jupyter-widgets/base",
            "_view_module_version": "1.2.0",
            "_view_name": "LayoutView",
            "align_content": null,
            "align_items": null,
            "align_self": null,
            "border": null,
            "bottom": null,
            "display": null,
            "flex": "2",
            "flex_flow": null,
            "grid_area": null,
            "grid_auto_columns": null,
            "grid_auto_flow": null,
            "grid_auto_rows": null,
            "grid_column": null,
            "grid_gap": null,
            "grid_row": null,
            "grid_template_areas": null,
            "grid_template_columns": null,
            "grid_template_rows": null,
            "height": null,
            "justify_content": null,
            "justify_items": null,
            "left": null,
            "margin": null,
            "max_height": null,
            "max_width": null,
            "min_height": null,
            "min_width": null,
            "object_fit": null,
            "object_position": null,
            "order": null,
            "overflow": null,
            "overflow_x": null,
            "overflow_y": null,
            "padding": null,
            "right": null,
            "top": null,
            "visibility": null,
            "width": null
          }
        },
        "27aca93e9916409a9464d3e089e636b6": {
          "model_module": "@jupyter-widgets/controls",
          "model_name": "ProgressStyleModel",
          "model_module_version": "1.5.0",
          "state": {
            "_model_module": "@jupyter-widgets/controls",
            "_model_module_version": "1.5.0",
            "_model_name": "ProgressStyleModel",
            "_view_count": null,
            "_view_module": "@jupyter-widgets/base",
            "_view_module_version": "1.2.0",
            "_view_name": "StyleView",
            "bar_color": null,
            "description_width": ""
          }
        },
        "e45cc028e59f484bac2f3f3e29415fa5": {
          "model_module": "@jupyter-widgets/base",
          "model_name": "LayoutModel",
          "model_module_version": "1.2.0",
          "state": {
            "_model_module": "@jupyter-widgets/base",
            "_model_module_version": "1.2.0",
            "_model_name": "LayoutModel",
            "_view_count": null,
            "_view_module": "@jupyter-widgets/base",
            "_view_module_version": "1.2.0",
            "_view_name": "LayoutView",
            "align_content": null,
            "align_items": null,
            "align_self": null,
            "border": null,
            "bottom": null,
            "display": null,
            "flex": null,
            "flex_flow": null,
            "grid_area": null,
            "grid_auto_columns": null,
            "grid_auto_flow": null,
            "grid_auto_rows": null,
            "grid_column": null,
            "grid_gap": null,
            "grid_row": null,
            "grid_template_areas": null,
            "grid_template_columns": null,
            "grid_template_rows": null,
            "height": null,
            "justify_content": null,
            "justify_items": null,
            "left": null,
            "margin": null,
            "max_height": null,
            "max_width": null,
            "min_height": null,
            "min_width": null,
            "object_fit": null,
            "object_position": null,
            "order": null,
            "overflow": null,
            "overflow_x": null,
            "overflow_y": null,
            "padding": null,
            "right": null,
            "top": null,
            "visibility": null,
            "width": null
          }
        },
        "ae75c5cded224a649d31cf84d1135076": {
          "model_module": "@jupyter-widgets/controls",
          "model_name": "DescriptionStyleModel",
          "model_module_version": "1.5.0",
          "state": {
            "_model_module": "@jupyter-widgets/controls",
            "_model_module_version": "1.5.0",
            "_model_name": "DescriptionStyleModel",
            "_view_count": null,
            "_view_module": "@jupyter-widgets/base",
            "_view_module_version": "1.2.0",
            "_view_name": "StyleView",
            "description_width": ""
          }
        }
      }
    }
  },
  "cells": [
    {
      "cell_type": "markdown",
      "metadata": {
        "id": "view-in-github",
        "colab_type": "text"
      },
      "source": [
        "<a href=\"https://colab.research.google.com/github/Nixtla/neuralforecast/blob/normalizers/MultiQuantile_Neural_Hierarchical_Interpolation.ipynb\" target=\"_parent\"><img src=\"https://colab.research.google.com/assets/colab-badge.svg\" alt=\"Open In Colab\"/></a>"
      ]
    },
    {
      "cell_type": "markdown",
      "source": [
        "![](https://drive.google.com/uc?export=view&id=1qjiUfddfUolPl_QsFIwP8jN1NSGxnhtS)\n",
        "\n"
      ],
      "metadata": {
        "id": "QmrkoJTS5dDW"
      }
    },
    {
      "cell_type": "markdown",
      "source": [
        "## Transfer learning for Time Series Forecasting"
      ],
      "metadata": {
        "id": "8qjcf9TCUBuD"
      }
    },
    {
      "cell_type": "markdown",
      "source": [
        "Transfer learning refers to the process of pre-training a flexible model on a large dataset and using it later on other data with little to no training. It is one of the most outstanding 🚀 achievements in Machine Learning 🧠 and has many practical applications.\n",
        "\n",
        "For time series forecasting, the technique allows you to get lightning-fast predictions ⚡ bypassing the tradeoff between accuracy and speed (more than 30 times faster than our alreadsy fast [autoARIMA](https://github.com/Nixtla/statsforecast) for a similar accuracy).\n",
        "\n",
        "This notebook shows how to generate a pre-trained model and store it in a checkpoint to make it available for public use to forecast new time series never seen by the model. \n",
        "If you want to see a proof of concept in action you can vistit this [Demo]((http://nixtla.io/transfer_learning/)\n",
        "\n",
        "If you want to use our Low Latency API for forecasting you can SingUp [here](nixtla.io/transferlearning). \n",
        "\n",
        "**You can contribute with your pre-trained models by following this tutorial and sending us an email at federico[at]nixtla.io**\n",
        "\n",
        "\n",
        "Table of Contents\n",
        "1.   [Installing NeuralForecast library](#cell-1)\n",
        "2.   [Load large M4-Hourly data](#cell-2)\n",
        "3.   [Create a base model: MQ-NHiTS](#cell-3)\n",
        "4.   [Pretrain the base model](#cell-4)\n",
        "5.   [Store model checkpoint](#cell-5)\n",
        "6.   [Transfer learning evaluation](#cell-6)\n",
        "\n",
        "If you are interested in the transfer learning literature, take a look at this paper:\n",
        "- [Meta-learning framework with applications to zero-shot time-series forecasting](https://arxiv.org/abs/2002.02887)\n",
        "- [N-HiTS: Neural Hierarchical Interpolation for Time Series Forecasting](https://arxiv.org/abs/2201.12886)\n",
        "\n"
      ],
      "metadata": {
        "id": "HXKT2-fpUD0Z"
      }
    },
    {
      "cell_type": "markdown",
      "source": [
        "<a name=\"cell-1\"></a>\n",
        "# 1. Installing NeuralForecast library"
      ],
      "metadata": {
        "id": "_lDk0Bpq9P_O"
      }
    },
    {
      "cell_type": "markdown",
      "source": [
        "Run `pip install neuralforecast` to install all required dependencies."
      ],
      "metadata": {
        "id": "ARXh0EHhU1UB"
      }
    },
    {
      "cell_type": "code",
      "source": [
        "%%capture\n",
        "pip install git+https://github.com/Nixtla/neuralforecast.git@main"
      ],
      "metadata": {
        "id": "iCXe5yxY6BEy"
      },
      "execution_count": null,
      "outputs": []
    },
    {
      "cell_type": "code",
      "source": [
        "%%capture\n",
        "pip install statsforecast"
      ],
      "metadata": {
        "id": "6BQrdfvgzf_8"
      },
      "execution_count": null,
      "outputs": []
    },
    {
      "cell_type": "code",
      "source": [
        "import datetime\n",
        "import torch as t\n",
        "import numpy as np\n",
        "import pandas as pd\n",
        "import matplotlib.pyplot as plt\n",
        "import pytorch_lightning as pl\n",
        "\n",
        "import logging\n",
        "logging.getLogger(\"pytorch_lightning\").setLevel(logging.WARNING)\n",
        "\n",
        "from neuralforecast.data.datasets.m4 import M4\n",
        "from neuralforecast.data.tsdataset import WindowsDataset\n",
        "from neuralforecast.data.tsloader import TimeSeriesLoader\n",
        "from neuralforecast.models.mqnhits.mqnhits import MQNHITS\n",
        "\n",
        "from statsforecast.utils import AirPassengers"
      ],
      "metadata": {
        "id": "I4eQDyW08bjm",
        "colab": {
          "base_uri": "https://localhost:8080/"
        },
        "outputId": "1c0b2786-2805-40e6-86ea-27cc61467865"
      },
      "execution_count": null,
      "outputs": [
        {
          "output_type": "stream",
          "name": "stderr",
          "text": [
            "/usr/local/lib/python3.7/dist-packages/statsmodels/tools/_testing.py:19: FutureWarning: pandas.util.testing is deprecated. Use the functions in the public API at pandas.testing instead.\n",
            "  import pandas.util.testing as tm\n"
          ]
        }
      ]
    },
    {
      "cell_type": "markdown",
      "source": [
        "This example will automatically run on GPUs if available. **Make sure** cuda is available. (If you need help to put this into production send us an email or join or community, we also offer a fully hosted solution)"
      ],
      "metadata": {
        "id": "PcRnqgIjcGTM"
      }
    },
    {
      "cell_type": "code",
      "source": [
        "t.cuda.is_available() \n",
        "#Should be true"
      ],
      "metadata": {
        "id": "WvlnplOvcPyJ",
        "colab": {
          "base_uri": "https://localhost:8080/"
        },
        "outputId": "8db18bc1-9ec7-4950-fc48-c8d28278dda5"
      },
      "execution_count": null,
      "outputs": [
        {
          "output_type": "execute_result",
          "data": {
            "text/plain": [
              "True"
            ]
          },
          "metadata": {},
          "execution_count": 4
        }
      ]
    },
    {
      "cell_type": "markdown",
      "source": [
        "<a name=\"cell-2\"></a>\n",
        "# 2. Load M4-Hourly Data"
      ],
      "metadata": {
        "id": "X1YDc7ih9OL2"
      }
    },
    {
      "cell_type": "markdown",
      "source": [
        "The `M4` class will automatically download the M4 dataset and process it.\n",
        "\n",
        "It return three Dataframes: `Y_df` contains the values for the target variables, `X_df` contains exogenous calendar features and `S_df` contains static features for each time-series. For this example we will only use `Y_df`.\n",
        "\n",
        "To pretrain the model on different data, replace `Y_df`. Be sure to use a long format and have the same structure than our dataset.\n",
        "\n",
        "We simplified the transfer-learning task by normalizing the time series within the `Y_df` data frame.\n",
        "\n",
        "An exciting line of research is to create neural forecasting models robust to the series scales, which will simplify their use."
      ],
      "metadata": {
        "id": "t92IECJyVG6k"
      }
    },
    {
      "cell_type": "code",
      "source": [
        "%%capture\n",
        "# Change this to your own data\n",
        "Y_df, _, _ = M4.load(directory='./', group='Hourly')\n",
        "\n",
        "# Normalization\n",
        "Y_df['y'] = Y_df[['unique_id','y']].groupby('unique_id').transform(lambda x: (x - x.mean()) / x.std())\n",
        "\n",
        "Y_df.head()"
      ],
      "metadata": {
        "colab": {
          "base_uri": "https://localhost:8080/"
        },
        "id": "GzBMt-1b8wAG",
        "outputId": "7872a48e-c9c7-4063-d93e-73f6cc006add"
      },
      "execution_count": null,
      "outputs": [
        {
          "output_type": "stream",
          "name": "stderr",
          "text": [
            "ERROR:neuralforecast.data.datasets.utils:ERROR, something went wrong downloading data\n",
            "INFO:neuralforecast.data.datasets.utils:Successfully downloaded Yearly-train.csv, 25355736, bytes.\n",
            "ERROR:neuralforecast.data.datasets.utils:ERROR, something went wrong downloading data\n",
            "INFO:neuralforecast.data.datasets.utils:Successfully downloaded Yearly-test.csv, 1486434, bytes.\n",
            "ERROR:neuralforecast.data.datasets.utils:ERROR, something went wrong downloading data\n",
            "INFO:neuralforecast.data.datasets.utils:Successfully downloaded Quarterly-train.csv, 38788547, bytes.\n",
            "ERROR:neuralforecast.data.datasets.utils:ERROR, something went wrong downloading data\n",
            "INFO:neuralforecast.data.datasets.utils:Successfully downloaded Quarterly-test.csv, 1971754, bytes.\n",
            "ERROR:neuralforecast.data.datasets.utils:ERROR, something went wrong downloading data\n",
            "INFO:neuralforecast.data.datasets.utils:Successfully downloaded Monthly-train.csv, 91655432, bytes.\n",
            "ERROR:neuralforecast.data.datasets.utils:ERROR, something went wrong downloading data\n",
            "INFO:neuralforecast.data.datasets.utils:Successfully downloaded Monthly-test.csv, 7942698, bytes.\n",
            "ERROR:neuralforecast.data.datasets.utils:ERROR, something went wrong downloading data\n",
            "INFO:neuralforecast.data.datasets.utils:Successfully downloaded Weekly-train.csv, 4015067, bytes.\n",
            "ERROR:neuralforecast.data.datasets.utils:ERROR, something went wrong downloading data\n",
            "INFO:neuralforecast.data.datasets.utils:Successfully downloaded Weekly-test.csv, 44247, bytes.\n",
            "ERROR:neuralforecast.data.datasets.utils:ERROR, something went wrong downloading data\n",
            "INFO:neuralforecast.data.datasets.utils:Successfully downloaded Daily-train.csv, 95765153, bytes.\n",
            "ERROR:neuralforecast.data.datasets.utils:ERROR, something went wrong downloading data\n",
            "INFO:neuralforecast.data.datasets.utils:Successfully downloaded Daily-test.csv, 576459, bytes.\n",
            "ERROR:neuralforecast.data.datasets.utils:ERROR, something went wrong downloading data\n",
            "INFO:neuralforecast.data.datasets.utils:Successfully downloaded Hourly-train.csv, 2347115, bytes.\n",
            "ERROR:neuralforecast.data.datasets.utils:ERROR, something went wrong downloading data\n",
            "INFO:neuralforecast.data.datasets.utils:Successfully downloaded Hourly-test.csv, 132820, bytes.\n",
            "INFO:neuralforecast.data.datasets.utils:Successfully downloaded Other-train.csv, 14, bytes.\n",
            "INFO:neuralforecast.data.datasets.utils:Successfully downloaded Other-test.csv, 14, bytes.\n",
            "ERROR:neuralforecast.data.datasets.utils:ERROR, something went wrong downloading data\n",
            "INFO:neuralforecast.data.datasets.utils:Successfully downloaded M4-info.csv, 4335598, bytes.\n",
            "INFO:neuralforecast.data.datasets.utils:Successfully downloaded submission-Naive2.zip, 3564691, bytes.\n",
            "INFO:neuralforecast.data.datasets.utils:Decompressing zip file...\n",
            "INFO:neuralforecast.data.datasets.utils:Successfully decompressed m4/datasets/submission-Naive2.zip\n"
          ]
        }
      ]
    },
    {
      "cell_type": "code",
      "source": [
        "u_id = 'H11'\n",
        "x_plot = pd.to_datetime(Y_df[Y_df.unique_id==u_id].ds).values\n",
        "y_plot = Y_df[Y_df.unique_id==u_id].y.values\n",
        "\n",
        "fig = plt.figure(figsize=(10, 5))\n",
        "fig.tight_layout()\n",
        "plt.plot(y_plot)\n",
        "plt.xlabel('Date', fontsize=17)\n",
        "plt.ylabel(u_id, fontsize=17)\n",
        "\n",
        "plt.grid()\n",
        "plt.show()\n",
        "plt.close()"
      ],
      "metadata": {
        "colab": {
          "base_uri": "https://localhost:8080/"
        },
        "id": "R8Jg0bTvtWlZ",
        "outputId": "de75cc39-2cff-4de1-d3f5-b6b2a1b838a8"
      },
      "execution_count": null,
      "outputs": [
        {
          "output_type": "display_data",
          "data": {
            "text/plain": [
              "<Figure size 720x360 with 1 Axes>"
            ],
            "image/png": "[encoded data removed]"
          },
          "metadata": {
            "needs_background": "light"
          }
        }
      ]
    },
    {
      "cell_type": "markdown",
      "source": [
        "<a name=\"cell-3\"></a>\n",
        "#3. Instantiate model"
      ],
      "metadata": {
        "id": "J_XLz8_z9mBU"
      }
    },
    {
      "cell_type": "markdown",
      "source": [
        "The N-HiTS model incorporates hierarchical interpolation and multi-rate data sampling techniques. It assembles its predictions sequentially, selectively emphasizing components with different frequencies and scales while decomposing the input signal and synthesizing the forecast. Here we extend N-HiTS into MQ-N-HiTS, allowing it to produce probabilistic predictions with the Multi-Quantile Loss.\n",
        "\n",
        "To instantiate your MQ-N-HiTS model and adapt it for your use, you can play around with its hyperparameters.\n",
        "\n",
        "**You can train your model with your own hyperparameters and your own dataset and share it to the community [here](https://github.com/Nixtla/transfer-learning-time-series).**"
      ],
      "metadata": {
        "id": "SaY944_LX1Y9"
      }
    },
    {
      "cell_type": "code",
      "source": [
        "forecast_horizon = 24"
      ],
      "metadata": {
        "id": "rDjPQVF1kuNG"
      },
      "execution_count": null,
      "outputs": []
    },
    {
      "cell_type": "code",
      "source": [
        "\n",
        "model = MQNHITS(n_time_in=3*forecast_horizon,\n",
        "                n_time_out=forecast_horizon,\n",
        "                quantiles=[5, 50, 95],\n",
        "                shared_weights=False,\n",
        "                initialization='lecun_normal',\n",
        "                activation='ReLU',\n",
        "                stack_types=3*['identity'],\n",
        "                n_blocks=3*[1],\n",
        "                n_layers=3*[2],\n",
        "                n_mlp_units=3*[2*[256]],\n",
        "                n_pool_kernel_size=3*[1],\n",
        "                n_freq_downsample=[12,4,1],\n",
        "                pooling_mode='max',\n",
        "                interpolation_mode='linear',\n",
        "                batch_normalization=False,\n",
        "                dropout_prob_theta=0,\n",
        "                learning_rate=0.001,\n",
        "                lr_decay=1.0,\n",
        "                lr_decay_step_size=100_000,\n",
        "                weight_decay=0.0,\n",
        "                loss_train='MQ',\n",
        "                loss_valid='MQ',\n",
        "                frequency='H',\n",
        "                n_x=0,\n",
        "                n_s=0,\n",
        "                n_x_hidden=0,\n",
        "                n_s_hidden=0,\n",
        "                loss_hypar=0.5,\n",
        "                random_seed=1)"
      ],
      "metadata": {
        "id": "GGt_k_kS9CNj",
        "colab": {
          "base_uri": "https://localhost:8080/",
          "height": 235
        },
        "outputId": "d523d253-ee18-47a2-b10a-7fa35f109d0a"
      },
      "execution_count": null,
      "outputs": [
        {
          "output_type": "error",
          "ename": "NameError",
          "evalue": "ignored",
          "traceback": [
            "\u001b[0;31m---------------------------------------------------------------------------\u001b[0m",
            "\u001b[0;31mNameError\u001b[0m                                 Traceback (most recent call last)",
            "\u001b[0;32m<ipython-input-7-3837138bf936>\u001b[0m in \u001b[0;36m<module>\u001b[0;34m()\u001b[0m\n\u001b[1;32m      1\u001b[0m \u001b[0;34m\u001b[0m\u001b[0m\n\u001b[0;32m----> 2\u001b[0;31m model = MQNHITS(n_time_in=3*forecast_horizon,\n\u001b[0m\u001b[1;32m      3\u001b[0m                 \u001b[0mn_time_out\u001b[0m\u001b[0;34m=\u001b[0m\u001b[0mforecast_horizon\u001b[0m\u001b[0;34m,\u001b[0m\u001b[0;34m\u001b[0m\u001b[0;34m\u001b[0m\u001b[0m\n\u001b[1;32m      4\u001b[0m                 \u001b[0mquantiles\u001b[0m\u001b[0;34m=\u001b[0m\u001b[0;34m[\u001b[0m\u001b[0;36m5\u001b[0m\u001b[0;34m,\u001b[0m \u001b[0;36m50\u001b[0m\u001b[0;34m,\u001b[0m \u001b[0;36m95\u001b[0m\u001b[0;34m]\u001b[0m\u001b[0;34m,\u001b[0m\u001b[0;34m\u001b[0m\u001b[0;34m\u001b[0m\u001b[0m\n\u001b[1;32m      5\u001b[0m                 \u001b[0mshared_weights\u001b[0m\u001b[0;34m=\u001b[0m\u001b[0;32mFalse\u001b[0m\u001b[0;34m,\u001b[0m\u001b[0;34m\u001b[0m\u001b[0;34m\u001b[0m\u001b[0m\n",
            "\u001b[0;31mNameError\u001b[0m: name 'forecast_horizon' is not defined"
          ]
        }
      ]
    },
    {
      "cell_type": "markdown",
      "source": [
        "<a name=\"cell-4\"></a>\n",
        "#4. Pretrain model"
      ],
      "metadata": {
        "id": "qxlNw85c-AoH"
      }
    },
    {
      "cell_type": "markdown",
      "source": [
        "Here we define the train dataloader and the Pytorch Lightning trainer with which we will pre-train the MQ-N-HiTS model."
      ],
      "metadata": {
        "id": "KZhWIH9PZGK4"
      }
    },
    {
      "cell_type": "code",
      "source": [
        "train_dataset = WindowsDataset(Y_df=Y_df, X_df=None, S_df=None, \n",
        "                               mask_df=None, f_cols=[],\n",
        "                               input_size=3*forecast_horizon,\n",
        "                               output_size=forecast_horizon,\n",
        "                               sample_freq=1,\n",
        "                               complete_windows=True,\n",
        "                               verbose=False)\n",
        "\n",
        "train_loader = TimeSeriesLoader(dataset=train_dataset,\n",
        "                                batch_size=32,\n",
        "                                n_windows=1024,\n",
        "                                shuffle=True)\n",
        "\n",
        "gpus = -1 if t.cuda.is_available() else 0\n",
        "trainer = pl.Trainer(max_epochs=None, \n",
        "                     max_steps=1000,\n",
        "                     gradient_clip_val=1.0,\n",
        "                     progress_bar_refresh_rate=1,\n",
        "                     gpus=gpus,\n",
        "                     log_every_n_steps=1)\n",
        "\n",
        "trainer.fit(model, train_loader)"
      ],
      "metadata": {
        "id": "SAZs-V0R94gv"
      },
      "execution_count": null,
      "outputs": []
    },
    {
      "cell_type": "markdown",
      "source": [
        "<a name=\"cell-5\"></a>\n",
        "#5. Plot forecast"
      ],
      "metadata": {
        "id": "pYFks13IpRcI"
      }
    },
    {
      "cell_type": "code",
      "source": [
        "Y_df_plot = Y_df[Y_df['unique_id']=='H1']\n",
        "\n",
        "plot_dataset = WindowsDataset(Y_df=Y_df_plot, X_df=None, S_df=None, \n",
        "                               mask_df=None, f_cols=[],\n",
        "                               input_size=3*forecast_horizon,\n",
        "                               output_size=forecast_horizon,\n",
        "                               sample_freq=1,\n",
        "                               complete_windows=True,\n",
        "                               verbose=False)\n",
        "\n",
        "plot_loader = TimeSeriesLoader(dataset=plot_dataset,\n",
        "                                batch_size=1,\n",
        "                                shuffle=False)\n",
        "\n",
        "outputs = trainer.predict(model, plot_loader)\n",
        "y_true, y_hat, mask = [t.cat(output).cpu().numpy() for output in zip(*outputs)]"
      ],
      "metadata": {
        "id": "RaMKVrgCpOr_"
      },
      "execution_count": null,
      "outputs": []
    },
    {
      "cell_type": "code",
      "source": [
        "window = 200\n",
        "plt.plot(y_true[window], c='black', label='True')\n",
        "plt.plot(y_hat[window,:,0], c='blue')\n",
        "plt.plot(y_hat[window,:,1], c='blue')\n",
        "plt.plot(y_hat[window,:,2], c='blue')\n",
        "plt.fill_between(x=range(forecast_horizon),\n",
        "                 y1=y_hat[window,:,0],\n",
        "                 y2=y_hat[window,:,2],\n",
        "                 alpha=0.2, label='p5-p95')\n",
        "\n",
        "plt.xlabel('Time', fontsize=17)\n",
        "plt.ylabel('Prediction', fontsize=17)\n",
        "plt.grid()\n",
        "plt.legend()"
      ],
      "metadata": {
        "colab": {
          "base_uri": "https://localhost:8080/",
          "height": 303
        },
        "id": "Q2eeiI9Ipkq7",
        "outputId": "d343d01c-2377-4efb-c3e6-6745253c0dd9"
      },
      "execution_count": null,
      "outputs": [
        {
          "output_type": "execute_result",
          "data": {
            "text/plain": [
              "<matplotlib.legend.Legend at 0x7f159b6fd7d0>"
            ]
          },
          "metadata": {},
          "execution_count": 12
        },
        {
          "output_type": "display_data",
          "data": {
            "text/plain": [
              "<Figure size 432x288 with 1 Axes>"
            ],
            "image/png": "[encoded data removed]"
          },
          "metadata": {
            "needs_background": "light"
          }
        }
      ]
    },
    {
      "cell_type": "markdown",
      "source": [
        "<a name=\"cell-6\"></a>\n",
        "#6. Save model"
      ],
      "metadata": {
        "id": "F9ziVAUNPkXc"
      }
    },
    {
      "cell_type": "markdown",
      "source": [
        "Rename your model with `model_name` and save it with `trainer.save_checkpoint`."
      ],
      "metadata": {
        "id": "Bfx-R-SUbWn3"
      }
    },
    {
      "cell_type": "code",
      "source": [
        "model_name = 'nhits_3b_m4_hourly'"
      ],
      "metadata": {
        "id": "GTgZHLRT1I0-"
      },
      "execution_count": null,
      "outputs": []
    },
    {
      "cell_type": "code",
      "source": [
        "trainer.save_checkpoint(f\"{model_name}.ckpt\")"
      ],
      "metadata": {
        "id": "oBYFgGEB--2Q"
      },
      "execution_count": null,
      "outputs": []
    },
    {
      "cell_type": "markdown",
      "source": [
        "<a name=\"cell-7\"></a>\n",
        "#7. Test pretrained model"
      ],
      "metadata": {
        "id": "AyYCI9Tcq_h_"
      }
    },
    {
      "cell_type": "markdown",
      "source": [
        "Run the rest of the notebook to test your new model. If it doesn't return an error your model is compatible with our API."
      ],
      "metadata": {
        "id": "Gg5fQBage92s"
      }
    },
    {
      "cell_type": "markdown",
      "source": [
        "DO NOT MODIFY THESE FUNCTIONS"
      ],
      "metadata": {
        "id": "GGXcAgT8wkFy"
      }
    },
    {
      "cell_type": "code",
      "source": [
        "# DO NOT MODIFY\n",
        "def compute_ds_future(ds, fh):\n",
        "    freq = ds[-1] - ds[-2]\n",
        "    ds_future = [ds[-1] + (i + 1) * freq for i in range(fh)]\n",
        "    return ds_future"
      ],
      "metadata": {
        "id": "gAxcUM0IyHXh"
      },
      "execution_count": null,
      "outputs": []
    },
    {
      "cell_type": "code",
      "source": [
        "# DO NOT MODIFY\n",
        "def forecast_pretrained_model(ckpt_dir, timestamps, values, fh, max_steps):\n",
        "\n",
        "    values_mean = np.mean(values)\n",
        "    values_std = np.std(values)\n",
        "    values_normalized = (values-values_mean)/values_std\n",
        "    \n",
        "    # Parse data\n",
        "    Y_df = pd.DataFrame({'unique_id': model, \n",
        "                         'ds': timestamps, \n",
        "                         'y': values_normalized})\n",
        "\n",
        "    # Model\n",
        "    mqnhits = MQNHITS.load_from_checkpoint(ckpt_dir)\n",
        "\n",
        "    # Fit\n",
        "    if max_steps > 0:\n",
        "        train_dataset = WindowsDataset(Y_df=Y_df, X_df=None, S_df=None, \n",
        "                                       mask_df=None, f_cols=[],\n",
        "                                       input_size=mqnhits.n_time_in,\n",
        "                                       output_size=mqnhits.n_time_out,\n",
        "                                       sample_freq=1,\n",
        "                                       complete_windows=True,\n",
        "                                       verbose=False)\n",
        "\n",
        "        train_loader = TimeSeriesLoader(dataset=train_dataset,\n",
        "                                        batch_size=1,\n",
        "                                        n_windows=32,\n",
        "                                        shuffle=True)\n",
        "\n",
        "        trainer = pl.Trainer(max_epochs=None, \n",
        "                             max_steps=max_steps,\n",
        "                             gradient_clip_val=1.0,\n",
        "                             progress_bar_refresh_rate=1, \n",
        "                             log_every_n_steps=1)\n",
        "\n",
        "        trainer.fit(mqnhits, train_loader)\n",
        "    \n",
        "    # Forecast\n",
        "    forecast_df = mqnhits.forecast(Y_df=Y_df)\n",
        "    forecast_df['y_5'] = values_std*forecast_df['y_5'] + values_mean\n",
        "    forecast_df['y_50'] = values_std*forecast_df['y_50'] + values_mean\n",
        "    forecast_df['y_95'] = values_std*forecast_df['y_95'] + values_mean\n",
        "\n",
        "    # Forecast\n",
        "    forecast = forecast_df['y_50'].values\n",
        "    lo = forecast_df['y_5'].values\n",
        "    hi = forecast_df['y_95'].values\n",
        "    if fh <= len(forecast):\n",
        "        forecast = forecast[:fh]\n",
        "        lo = lo[:fh]\n",
        "        hi = hi[:fh]\n",
        "    else:\n",
        "        forecast = np.tile(forecast, fh)[:fh]\n",
        "        lo = np.tile(lo, fh)[:fh]\n",
        "        hi = np.tile(hi, fh)[:fh]\n",
        "\n",
        "    results = {\n",
        "        'timestamp': compute_ds_future(timestamps, fh),\n",
        "        'value': forecast.tolist(),\n",
        "        'lo': lo.tolist(),\n",
        "        'hi': hi.tolist()\n",
        "    }\n",
        "\n",
        "    return results"
      ],
      "metadata": {
        "id": "qKLTgZz4B1ex"
      },
      "execution_count": null,
      "outputs": []
    },
    {
      "cell_type": "code",
      "source": [
        "# DO NOT MODIFY\n",
        "timestamps = [datetime.date(month=1,year=i+2022,day=1) for i in range(len(AirPassengers)-forecast_horizon)]\n",
        "results = forecast_pretrained_model(ckpt_dir=f'./{model_name}.ckpt',\n",
        "                                    timestamps=timestamps,\n",
        "                                    values=list(AirPassengers[:-forecast_horizon]),\n",
        "                                    fh=forecast_horizon,\n",
        "                                    max_steps=10)"
      ],
      "metadata": {
        "colab": {
          "base_uri": "https://localhost:8080/",
          "height": 726,
          "referenced_widgets": [
            "f6f0457c090d49e2ba6a244ed4c6aa9f",
            "316738032fe942cb8599c4eb6d9aec8c",
            "dfd154593c494481906d3fb9a09ed797",
            "59ab92a23f164fadaed0e70c5c98936a",
            "f9aff2cdab16483986df5fe66ccaa546",
            "c50ee22f4a074877823980f5dc22fedc",
            "f47dc0020cee4541b439e3e8560f6746",
            "66ae4828dc4a46859b99a151f1908a17",
            "e822f37af7144fce9dcb880a162b0043",
            "ec341347c6d043e0818b3528e9eb1036",
            "037b95a9c8144ff0a654ef59babf05c3",
            "4d4fbff1aa9e4669aa0f4a536590a83c",
            "b3ff250d4da4412787b3f63dc0c0c46d",
            "633ff5c9e351466880ac5abd5eb74f9c",
            "03d80dd3ec2a4fc3b8aebc06f82f66f1",
            "0c6e885e7f5d4275821eddd8d03ec086",
            "3195f2cf54f346baa2709c423d665ea5",
            "01fd7e12b4b744dea531f54c42bd6186",
            "397a5e58be144ae298679f6c1594ddc7",
            "27aca93e9916409a9464d3e089e636b6",
            "e45cc028e59f484bac2f3f3e29415fa5",
            "ae75c5cded224a649d31cf84d1135076"
          ]
        },
        "id": "r31eXhMdyXzV",
        "outputId": "708984fc-1afc-4bbf-e158-0b6cf6f65b4e"
      },
      "execution_count": null,
      "outputs": [
        {
          "output_type": "stream",
          "name": "stderr",
          "text": [
            "/usr/local/lib/python3.7/dist-packages/pytorch_lightning/trainer/connectors/callback_connector.py:97: LightningDeprecationWarning: Setting `Trainer(progress_bar_refresh_rate=1)` is deprecated in v1.5 and will be removed in v1.7. Please pass `pytorch_lightning.callbacks.progress.TQDMProgressBar` with `refresh_rate` directly to the Trainer's `callbacks` argument instead. Or, to disable the progress bar pass `enable_progress_bar = False` to the Trainer.\n",
            "  f\"Setting `Trainer(progress_bar_refresh_rate={progress_bar_refresh_rate})` is deprecated in v1.5 and\"\n",
            "/usr/local/lib/python3.7/dist-packages/pytorch_lightning/trainer/trainer.py:1815: PossibleUserWarning: GPU available but not used. Set `accelerator` and `devices` using `Trainer(accelerator='gpu', devices=1)`.\n",
            "  category=PossibleUserWarning,\n",
            "/usr/local/lib/python3.7/dist-packages/pytorch_lightning/trainer/configuration_validator.py:133: UserWarning: You defined a `validation_step` but have no `val_dataloader`. Skipping val loop.\n",
            "  rank_zero_warn(\"You defined a `validation_step` but have no `val_dataloader`. Skipping val loop.\")\n"
          ]
        },
        {
          "output_type": "display_data",
          "data": {
            "text/plain": [
              "Training: 0it [00:00, ?it/s]"
            ],
            "application/vnd.jupyter.widget-view+json": {
              "version_major": 2,
              "version_minor": 0,
              "model_id": "f6f0457c090d49e2ba6a244ed4c6aa9f"
            }
          },
          "metadata": {}
        },
        {
          "output_type": "stream",
          "name": "stderr",
          "text": [
            "/usr/local/lib/python3.7/dist-packages/torch/nn/functional.py:682: UserWarning: Note that order of the arguments: ceil_mode and return_indices will changeto match the args list in nn.MaxPool1d in a future release.\n",
            "  warnings.warn(\"Note that order of the arguments: ceil_mode and return_indices will change\"\n",
            "INFO:root:Train Validation splits\n",
            "\n",
            "INFO:root:                                                                                ds  \\\n",
            "                                                                               min   \n",
            "unique_id                                          sample_mask                       \n",
            "MQNHITS(\\n  (model): _NHITS(\\n    (blocks): Mod... 0           2022-01-01 00:00:00   \n",
            "                                                   1           2141-01-01 01:00:00   \n",
            "\n",
            "                                                                           \n",
            "                                                                      max  \n",
            "unique_id                                          sample_mask             \n",
            "MQNHITS(\\n  (model): _NHITS(\\n    (blocks): Mod... 0           2141-01-01  \n",
            "                                                   1           2141-01-02  \n",
            "INFO:root:\n",
            "Total data \t\t\t144 time stamps \n",
            "Available percentage=100.0, \t144 time stamps \n",
            "Insample  percentage=16.67, \t24 time stamps \n",
            "Outsample percentage=83.33, \t120 time stamps \n",
            "\n",
            "/usr/local/lib/python3.7/dist-packages/pytorch_lightning/loops/utilities.py:94: PossibleUserWarning: `max_epochs` was not set. Setting it to 1000 epochs. To train without an epoch limit, set `max_epochs=-1`.\n",
            "  category=PossibleUserWarning,\n",
            "/usr/local/lib/python3.7/dist-packages/pytorch_lightning/trainer/connectors/callback_connector.py:97: LightningDeprecationWarning: Setting `Trainer(progress_bar_refresh_rate=1)` is deprecated in v1.5 and will be removed in v1.7. Please pass `pytorch_lightning.callbacks.progress.TQDMProgressBar` with `refresh_rate` directly to the Trainer's `callbacks` argument instead. Or, to disable the progress bar pass `enable_progress_bar = False` to the Trainer.\n",
            "  f\"Setting `Trainer(progress_bar_refresh_rate={progress_bar_refresh_rate})` is deprecated in v1.5 and\"\n"
          ]
        },
        {
          "output_type": "display_data",
          "data": {
            "text/plain": [
              "Predicting: 0it [00:00, ?it/s]"
            ],
            "application/vnd.jupyter.widget-view+json": {
              "version_major": 2,
              "version_minor": 0,
              "model_id": "4d4fbff1aa9e4669aa0f4a536590a83c"
            }
          },
          "metadata": {}
        },
        {
          "output_type": "stream",
          "name": "stderr",
          "text": [
            "/usr/local/lib/python3.7/dist-packages/torch/nn/functional.py:682: UserWarning: Note that order of the arguments: ceil_mode and return_indices will changeto match the args list in nn.MaxPool1d in a future release.\n",
            "  warnings.warn(\"Note that order of the arguments: ceil_mode and return_indices will change\"\n"
          ]
        },
        {
          "output_type": "stream",
          "name": "stdout",
          "text": [
            "forecast.shape (1, 24, 3)\n",
            "forecast.shape (24, 3)\n"
          ]
        }
      ]
    },
    {
      "cell_type": "code",
      "source": [
        "plt.plot(range(len(AirPassengers)), AirPassengers, c='black', label='True')\n",
        "plt.plot(range(len(AirPassengers)-forecast_horizon,len(AirPassengers)), results['lo'], c='blue')\n",
        "plt.plot(range(len(AirPassengers)-forecast_horizon,len(AirPassengers)), results['value'], c='blue')\n",
        "plt.plot(range(len(AirPassengers)-forecast_horizon,len(AirPassengers)), results['hi'], c='blue')\n",
        "plt.fill_between(x=range(len(AirPassengers)-forecast_horizon,len(AirPassengers)),\n",
        "                 y1=results['lo'],\n",
        "                 y2=results['hi'],\n",
        "                 alpha=0.2, label='p5-p95')\n",
        "\n",
        "plt.xlabel('Time', fontsize=17)\n",
        "plt.ylabel('Prediction', fontsize=17)\n",
        "plt.grid()\n",
        "plt.legend()"
      ],
      "metadata": {
        "colab": {
          "base_uri": "https://localhost:8080/",
          "height": 303
        },
        "id": "wG6a5BhZ1oJK",
        "outputId": "ebb2e979-76fe-4f22-96ba-1cad4fb49608"
      },
      "execution_count": null,
      "outputs": [
        {
          "output_type": "execute_result",
          "data": {
            "text/plain": [
              "<matplotlib.legend.Legend at 0x7f1595c08d50>"
            ]
          },
          "metadata": {},
          "execution_count": 45
        },
        {
          "output_type": "display_data",
          "data": {
            "text/plain": [
              "<Figure size 432x288 with 1 Axes>"
            ],
            "image/png": "[encoded data removed]"
          },
          "metadata": {
            "needs_background": "light"
          }
        }
      ]
    },
    {
      "cell_type": "code",
      "source": [
        ""
      ],
      "metadata": {
        "id": "qSIiqaxV2XQd"
      },
      "execution_count": null,
      "outputs": []
    }
  ]
}